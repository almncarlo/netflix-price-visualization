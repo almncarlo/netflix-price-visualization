{
 "cells": [
  {
   "cell_type": "code",
   "execution_count": 1,
   "id": "42b21db7",
   "metadata": {
    "_cell_guid": "b1076dfc-b9ad-4769-8c92-a6c4dae69d19",
    "_uuid": "8f2839f25d086af736a60e9eeb907d3b93b6e0e5",
    "execution": {
     "iopub.execute_input": "2022-02-11T06:22:15.718195Z",
     "iopub.status.busy": "2022-02-11T06:22:15.710116Z",
     "iopub.status.idle": "2022-02-11T06:22:16.773497Z",
     "shell.execute_reply": "2022-02-11T06:22:16.774485Z",
     "shell.execute_reply.started": "2022-02-11T06:08:00.338966Z"
    },
    "papermill": {
     "duration": 1.074265,
     "end_time": "2022-02-11T06:22:16.774932",
     "exception": false,
     "start_time": "2022-02-11T06:22:15.700667",
     "status": "completed"
    },
    "tags": []
   },
   "outputs": [
    {
     "name": "stdout",
     "output_type": "stream",
     "text": [
      "Setup Complete\n"
     ]
    }
   ],
   "source": [
    "import pandas as pd\n",
    "pd.plotting.register_matplotlib_converters()\n",
    "import matplotlib.pyplot as plt\n",
    "%matplotlib inline\n",
    "import seaborn as sb\n",
    "print(\"Setup Complete\")"
   ]
  },
  {
   "cell_type": "code",
   "execution_count": 2,
   "id": "f45bd568",
   "metadata": {
    "execution": {
     "iopub.execute_input": "2022-02-11T06:22:16.790133Z",
     "iopub.status.busy": "2022-02-11T06:22:16.789514Z",
     "iopub.status.idle": "2022-02-11T06:22:16.828023Z",
     "shell.execute_reply": "2022-02-11T06:22:16.828568Z",
     "shell.execute_reply.started": "2022-02-11T06:10:46.885285Z"
    },
    "papermill": {
     "duration": 0.048319,
     "end_time": "2022-02-11T06:22:16.828733",
     "exception": false,
     "start_time": "2022-02-11T06:22:16.780414",
     "status": "completed"
    },
    "tags": []
   },
   "outputs": [
    {
     "data": {
      "text/html": [
       "<div>\n",
       "<style scoped>\n",
       "    .dataframe tbody tr th:only-of-type {\n",
       "        vertical-align: middle;\n",
       "    }\n",
       "\n",
       "    .dataframe tbody tr th {\n",
       "        vertical-align: top;\n",
       "    }\n",
       "\n",
       "    .dataframe thead th {\n",
       "        text-align: right;\n",
       "    }\n",
       "</style>\n",
       "<table border=\"1\" class=\"dataframe\">\n",
       "  <thead>\n",
       "    <tr style=\"text-align: right;\">\n",
       "      <th></th>\n",
       "      <th>Country</th>\n",
       "      <th>Total Library Size</th>\n",
       "      <th>No. of TV Shows</th>\n",
       "      <th>No. of Movies</th>\n",
       "      <th>Cost Per Month - Basic ($)</th>\n",
       "      <th>Cost Per Month - Standard ($)</th>\n",
       "      <th>Cost Per Month - Premium ($)</th>\n",
       "    </tr>\n",
       "    <tr>\n",
       "      <th>Country_code</th>\n",
       "      <th></th>\n",
       "      <th></th>\n",
       "      <th></th>\n",
       "      <th></th>\n",
       "      <th></th>\n",
       "      <th></th>\n",
       "      <th></th>\n",
       "    </tr>\n",
       "  </thead>\n",
       "  <tbody>\n",
       "    <tr>\n",
       "      <th>ar</th>\n",
       "      <td>Argentina</td>\n",
       "      <td>4760</td>\n",
       "      <td>3154</td>\n",
       "      <td>1606</td>\n",
       "      <td>3.74</td>\n",
       "      <td>6.30</td>\n",
       "      <td>9.26</td>\n",
       "    </tr>\n",
       "    <tr>\n",
       "      <th>au</th>\n",
       "      <td>Australia</td>\n",
       "      <td>6114</td>\n",
       "      <td>4050</td>\n",
       "      <td>2064</td>\n",
       "      <td>7.84</td>\n",
       "      <td>12.12</td>\n",
       "      <td>16.39</td>\n",
       "    </tr>\n",
       "    <tr>\n",
       "      <th>at</th>\n",
       "      <td>Austria</td>\n",
       "      <td>5640</td>\n",
       "      <td>3779</td>\n",
       "      <td>1861</td>\n",
       "      <td>9.03</td>\n",
       "      <td>14.67</td>\n",
       "      <td>20.32</td>\n",
       "    </tr>\n",
       "    <tr>\n",
       "      <th>be</th>\n",
       "      <td>Belgium</td>\n",
       "      <td>4990</td>\n",
       "      <td>3374</td>\n",
       "      <td>1616</td>\n",
       "      <td>10.16</td>\n",
       "      <td>15.24</td>\n",
       "      <td>20.32</td>\n",
       "    </tr>\n",
       "    <tr>\n",
       "      <th>bo</th>\n",
       "      <td>Bolivia</td>\n",
       "      <td>4991</td>\n",
       "      <td>3155</td>\n",
       "      <td>1836</td>\n",
       "      <td>7.99</td>\n",
       "      <td>10.99</td>\n",
       "      <td>13.99</td>\n",
       "    </tr>\n",
       "    <tr>\n",
       "      <th>...</th>\n",
       "      <td>...</td>\n",
       "      <td>...</td>\n",
       "      <td>...</td>\n",
       "      <td>...</td>\n",
       "      <td>...</td>\n",
       "      <td>...</td>\n",
       "      <td>...</td>\n",
       "    </tr>\n",
       "    <tr>\n",
       "      <th>ua</th>\n",
       "      <td>Ukraine</td>\n",
       "      <td>5336</td>\n",
       "      <td>3261</td>\n",
       "      <td>2075</td>\n",
       "      <td>5.64</td>\n",
       "      <td>8.46</td>\n",
       "      <td>11.29</td>\n",
       "    </tr>\n",
       "    <tr>\n",
       "      <th>gb</th>\n",
       "      <td>United Kingdom</td>\n",
       "      <td>6643</td>\n",
       "      <td>4551</td>\n",
       "      <td>2092</td>\n",
       "      <td>7.91</td>\n",
       "      <td>13.20</td>\n",
       "      <td>18.48</td>\n",
       "    </tr>\n",
       "    <tr>\n",
       "      <th>us</th>\n",
       "      <td>United States</td>\n",
       "      <td>5818</td>\n",
       "      <td>3826</td>\n",
       "      <td>1992</td>\n",
       "      <td>8.99</td>\n",
       "      <td>13.99</td>\n",
       "      <td>17.99</td>\n",
       "    </tr>\n",
       "    <tr>\n",
       "      <th>uy</th>\n",
       "      <td>Uruguay</td>\n",
       "      <td>4989</td>\n",
       "      <td>3154</td>\n",
       "      <td>1835</td>\n",
       "      <td>8.99</td>\n",
       "      <td>12.99</td>\n",
       "      <td>15.99</td>\n",
       "    </tr>\n",
       "    <tr>\n",
       "      <th>ve</th>\n",
       "      <td>Venezuela</td>\n",
       "      <td>4797</td>\n",
       "      <td>3154</td>\n",
       "      <td>1643</td>\n",
       "      <td>7.99</td>\n",
       "      <td>10.99</td>\n",
       "      <td>13.99</td>\n",
       "    </tr>\n",
       "  </tbody>\n",
       "</table>\n",
       "<p>65 rows × 7 columns</p>\n",
       "</div>"
      ],
      "text/plain": [
       "                     Country  Total Library Size  No. of TV Shows  \\\n",
       "Country_code                                                        \n",
       "ar                 Argentina                4760             3154   \n",
       "au                 Australia                6114             4050   \n",
       "at                   Austria                5640             3779   \n",
       "be                   Belgium                4990             3374   \n",
       "bo                   Bolivia                4991             3155   \n",
       "...                      ...                 ...              ...   \n",
       "ua                   Ukraine                5336             3261   \n",
       "gb            United Kingdom                6643             4551   \n",
       "us             United States                5818             3826   \n",
       "uy                   Uruguay                4989             3154   \n",
       "ve                 Venezuela                4797             3154   \n",
       "\n",
       "              No. of Movies  Cost Per Month - Basic ($)  \\\n",
       "Country_code                                              \n",
       "ar                     1606                        3.74   \n",
       "au                     2064                        7.84   \n",
       "at                     1861                        9.03   \n",
       "be                     1616                       10.16   \n",
       "bo                     1836                        7.99   \n",
       "...                     ...                         ...   \n",
       "ua                     2075                        5.64   \n",
       "gb                     2092                        7.91   \n",
       "us                     1992                        8.99   \n",
       "uy                     1835                        8.99   \n",
       "ve                     1643                        7.99   \n",
       "\n",
       "              Cost Per Month - Standard ($)  Cost Per Month - Premium ($)  \n",
       "Country_code                                                               \n",
       "ar                                     6.30                          9.26  \n",
       "au                                    12.12                         16.39  \n",
       "at                                    14.67                         20.32  \n",
       "be                                    15.24                         20.32  \n",
       "bo                                    10.99                         13.99  \n",
       "...                                     ...                           ...  \n",
       "ua                                     8.46                         11.29  \n",
       "gb                                    13.20                         18.48  \n",
       "us                                    13.99                         17.99  \n",
       "uy                                    12.99                         15.99  \n",
       "ve                                    10.99                         13.99  \n",
       "\n",
       "[65 rows x 7 columns]"
      ]
     },
     "execution_count": 2,
     "metadata": {},
     "output_type": "execute_result"
    }
   ],
   "source": [
    "# sets the path of the file to be analyzed to a variable\n",
    "nflx_path = '../input/netflix-subscription-price-in-different-countries/Netflix subscription fee Dec-2021.csv'\n",
    "\n",
    "# reads file to a variable\n",
    "nflx_data = pd.read_csv(nflx_path, index_col='Country_code')\n",
    "\n",
    "# returns the csv file in table form\n",
    "nflx_data"
   ]
  },
  {
   "cell_type": "code",
   "execution_count": 3,
   "id": "bee830e6",
   "metadata": {
    "execution": {
     "iopub.execute_input": "2022-02-11T06:22:16.852273Z",
     "iopub.status.busy": "2022-02-11T06:22:16.847967Z",
     "iopub.status.idle": "2022-02-11T06:22:17.224268Z",
     "shell.execute_reply": "2022-02-11T06:22:17.223642Z",
     "shell.execute_reply.started": "2022-02-11T06:17:18.314506Z"
    },
    "papermill": {
     "duration": 0.39018,
     "end_time": "2022-02-11T06:22:17.224404",
     "exception": false,
     "start_time": "2022-02-11T06:22:16.834224",
     "status": "completed"
    },
    "tags": []
   },
   "outputs": [
    {
     "data": {
      "text/plain": [
       "<AxesSubplot:xlabel='Total Library Size', ylabel='Cost Per Month - Standard ($)'>"
      ]
     },
     "execution_count": 3,
     "metadata": {},
     "output_type": "execute_result"
    },
    {
     "data": {
      "image/png": "[encoded data removed]",
      "text/plain": [
       "<Figure size 432x288 with 1 Axes>"
      ]
     },
     "metadata": {
      "needs_background": "light"
     },
     "output_type": "display_data"
    }
   ],
   "source": [
    "sb.regplot(x=nflx_data['Total Library Size'], y=nflx_data['Cost Per Month - Standard ($)'])"
   ]
  }
 ],
 "metadata": {
  "kernelspec": {
   "display_name": "Python 3",
   "language": "python",
   "name": "python3"
  },
  "language_info": {
   "codemirror_mode": {
    "name": "ipython",
    "version": 3
   },
   "file_extension": ".py",
   "mimetype": "text/x-python",
   "name": "python",
   "nbconvert_exporter": "python",
   "pygments_lexer": "ipython3",
   "version": "3.7.12"
  },
  "papermill": {
   "default_parameters": {},
   "duration": 11.556383,
   "end_time": "2022-02-11T06:22:17.841199",
   "environment_variables": {},
   "exception": null,
   "input_path": "__notebook__.ipynb",
   "output_path": "__notebook__.ipynb",
   "parameters": {},
   "start_time": "2022-02-11T06:22:06.284816",
   "version": "2.3.3"
  }
 },
 "nbformat": 4,
 "nbformat_minor": 5
}
