{
 "cells": [
  {
   "cell_type": "code",
   "execution_count": 1,
   "id": "621880f5",
   "metadata": {
    "_cell_guid": "b1076dfc-b9ad-4769-8c92-a6c4dae69d19",
    "_uuid": "8f2839f25d086af736a60e9eeb907d3b93b6e0e5",
    "execution": {
     "iopub.execute_input": "2022-02-20T04:02:11.203591Z",
     "iopub.status.busy": "2022-02-20T04:02:11.201577Z",
     "iopub.status.idle": "2022-02-20T04:02:12.322734Z",
     "shell.execute_reply": "2022-02-20T04:02:12.321570Z",
     "shell.execute_reply.started": "2022-02-20T03:20:56.213172Z"
    },
    "papermill": {
     "duration": 1.134887,
     "end_time": "2022-02-20T04:02:12.322970",
     "exception": false,
     "start_time": "2022-02-20T04:02:11.188083",
     "status": "completed"
    },
    "tags": []
   },
   "outputs": [
    {
     "name": "stdout",
     "output_type": "stream",
     "text": [
      "Setup Complete\n"
     ]
    }
   ],
   "source": [
    "import pandas as pd\n",
    "pd.plotting.register_matplotlib_converters()\n",
    "import matplotlib.pyplot as plt\n",
    "%matplotlib inline\n",
    "import seaborn as sb\n",
    "print(\"Setup Complete\")"
   ]
  },
  {
   "cell_type": "code",
   "execution_count": 2,
   "id": "6e4d8186",
   "metadata": {
    "execution": {
     "iopub.execute_input": "2022-02-20T04:02:12.345372Z",
     "iopub.status.busy": "2022-02-20T04:02:12.344608Z",
     "iopub.status.idle": "2022-02-20T04:02:12.392476Z",
     "shell.execute_reply": "2022-02-20T04:02:12.393015Z",
     "shell.execute_reply.started": "2022-02-20T03:20:57.512886Z"
    },
    "papermill": {
     "duration": 0.061373,
     "end_time": "2022-02-20T04:02:12.393215",
     "exception": false,
     "start_time": "2022-02-20T04:02:12.331842",
     "status": "completed"
    },
    "tags": []
   },
   "outputs": [
    {
     "data": {
      "text/html": [
       "<div>\n",
       "<style scoped>\n",
       "    .dataframe tbody tr th:only-of-type {\n",
       "        vertical-align: middle;\n",
       "    }\n",
       "\n",
       "    .dataframe tbody tr th {\n",
       "        vertical-align: top;\n",
       "    }\n",
       "\n",
       "    .dataframe thead th {\n",
       "        text-align: right;\n",
       "    }\n",
       "</style>\n",
       "<table border=\"1\" class=\"dataframe\">\n",
       "  <thead>\n",
       "    <tr style=\"text-align: right;\">\n",
       "      <th></th>\n",
       "      <th>Country</th>\n",
       "      <th>Total Library Size</th>\n",
       "      <th>No. of TV Shows</th>\n",
       "      <th>No. of Movies</th>\n",
       "      <th>Cost Per Month - Basic ($)</th>\n",
       "      <th>Cost Per Month - Standard ($)</th>\n",
       "      <th>Cost Per Month - Premium ($)</th>\n",
       "    </tr>\n",
       "    <tr>\n",
       "      <th>Country_code</th>\n",
       "      <th></th>\n",
       "      <th></th>\n",
       "      <th></th>\n",
       "      <th></th>\n",
       "      <th></th>\n",
       "      <th></th>\n",
       "      <th></th>\n",
       "    </tr>\n",
       "  </thead>\n",
       "  <tbody>\n",
       "    <tr>\n",
       "      <th>ar</th>\n",
       "      <td>Argentina</td>\n",
       "      <td>4760</td>\n",
       "      <td>3154</td>\n",
       "      <td>1606</td>\n",
       "      <td>3.74</td>\n",
       "      <td>6.30</td>\n",
       "      <td>9.26</td>\n",
       "    </tr>\n",
       "    <tr>\n",
       "      <th>au</th>\n",
       "      <td>Australia</td>\n",
       "      <td>6114</td>\n",
       "      <td>4050</td>\n",
       "      <td>2064</td>\n",
       "      <td>7.84</td>\n",
       "      <td>12.12</td>\n",
       "      <td>16.39</td>\n",
       "    </tr>\n",
       "    <tr>\n",
       "      <th>at</th>\n",
       "      <td>Austria</td>\n",
       "      <td>5640</td>\n",
       "      <td>3779</td>\n",
       "      <td>1861</td>\n",
       "      <td>9.03</td>\n",
       "      <td>14.67</td>\n",
       "      <td>20.32</td>\n",
       "    </tr>\n",
       "    <tr>\n",
       "      <th>be</th>\n",
       "      <td>Belgium</td>\n",
       "      <td>4990</td>\n",
       "      <td>3374</td>\n",
       "      <td>1616</td>\n",
       "      <td>10.16</td>\n",
       "      <td>15.24</td>\n",
       "      <td>20.32</td>\n",
       "    </tr>\n",
       "    <tr>\n",
       "      <th>bo</th>\n",
       "      <td>Bolivia</td>\n",
       "      <td>4991</td>\n",
       "      <td>3155</td>\n",
       "      <td>1836</td>\n",
       "      <td>7.99</td>\n",
       "      <td>10.99</td>\n",
       "      <td>13.99</td>\n",
       "    </tr>\n",
       "    <tr>\n",
       "      <th>...</th>\n",
       "      <td>...</td>\n",
       "      <td>...</td>\n",
       "      <td>...</td>\n",
       "      <td>...</td>\n",
       "      <td>...</td>\n",
       "      <td>...</td>\n",
       "      <td>...</td>\n",
       "    </tr>\n",
       "    <tr>\n",
       "      <th>ua</th>\n",
       "      <td>Ukraine</td>\n",
       "      <td>5336</td>\n",
       "      <td>3261</td>\n",
       "      <td>2075</td>\n",
       "      <td>5.64</td>\n",
       "      <td>8.46</td>\n",
       "      <td>11.29</td>\n",
       "    </tr>\n",
       "    <tr>\n",
       "      <th>gb</th>\n",
       "      <td>United Kingdom</td>\n",
       "      <td>6643</td>\n",
       "      <td>4551</td>\n",
       "      <td>2092</td>\n",
       "      <td>7.91</td>\n",
       "      <td>13.20</td>\n",
       "      <td>18.48</td>\n",
       "    </tr>\n",
       "    <tr>\n",
       "      <th>us</th>\n",
       "      <td>United States</td>\n",
       "      <td>5818</td>\n",
       "      <td>3826</td>\n",
       "      <td>1992</td>\n",
       "      <td>8.99</td>\n",
       "      <td>13.99</td>\n",
       "      <td>17.99</td>\n",
       "    </tr>\n",
       "    <tr>\n",
       "      <th>uy</th>\n",
       "      <td>Uruguay</td>\n",
       "      <td>4989</td>\n",
       "      <td>3154</td>\n",
       "      <td>1835</td>\n",
       "      <td>8.99</td>\n",
       "      <td>12.99</td>\n",
       "      <td>15.99</td>\n",
       "    </tr>\n",
       "    <tr>\n",
       "      <th>ve</th>\n",
       "      <td>Venezuela</td>\n",
       "      <td>4797</td>\n",
       "      <td>3154</td>\n",
       "      <td>1643</td>\n",
       "      <td>7.99</td>\n",
       "      <td>10.99</td>\n",
       "      <td>13.99</td>\n",
       "    </tr>\n",
       "  </tbody>\n",
       "</table>\n",
       "<p>65 rows × 7 columns</p>\n",
       "</div>"
      ],
      "text/plain": [
       "                     Country  Total Library Size  No. of TV Shows  \\\n",
       "Country_code                                                        \n",
       "ar                 Argentina                4760             3154   \n",
       "au                 Australia                6114             4050   \n",
       "at                   Austria                5640             3779   \n",
       "be                   Belgium                4990             3374   \n",
       "bo                   Bolivia                4991             3155   \n",
       "...                      ...                 ...              ...   \n",
       "ua                   Ukraine                5336             3261   \n",
       "gb            United Kingdom                6643             4551   \n",
       "us             United States                5818             3826   \n",
       "uy                   Uruguay                4989             3154   \n",
       "ve                 Venezuela                4797             3154   \n",
       "\n",
       "              No. of Movies  Cost Per Month - Basic ($)  \\\n",
       "Country_code                                              \n",
       "ar                     1606                        3.74   \n",
       "au                     2064                        7.84   \n",
       "at                     1861                        9.03   \n",
       "be                     1616                       10.16   \n",
       "bo                     1836                        7.99   \n",
       "...                     ...                         ...   \n",
       "ua                     2075                        5.64   \n",
       "gb                     2092                        7.91   \n",
       "us                     1992                        8.99   \n",
       "uy                     1835                        8.99   \n",
       "ve                     1643                        7.99   \n",
       "\n",
       "              Cost Per Month - Standard ($)  Cost Per Month - Premium ($)  \n",
       "Country_code                                                               \n",
       "ar                                     6.30                          9.26  \n",
       "au                                    12.12                         16.39  \n",
       "at                                    14.67                         20.32  \n",
       "be                                    15.24                         20.32  \n",
       "bo                                    10.99                         13.99  \n",
       "...                                     ...                           ...  \n",
       "ua                                     8.46                         11.29  \n",
       "gb                                    13.20                         18.48  \n",
       "us                                    13.99                         17.99  \n",
       "uy                                    12.99                         15.99  \n",
       "ve                                    10.99                         13.99  \n",
       "\n",
       "[65 rows x 7 columns]"
      ]
     },
     "execution_count": 2,
     "metadata": {},
     "output_type": "execute_result"
    }
   ],
   "source": [
    "# sets the path of the file to be analyzed to a variable\n",
    "nflx_path = '../input/netflix-subscription-price-in-different-countries/Netflix subscription fee Dec-2021.csv'\n",
    "\n",
    "# reads file to a variable\n",
    "nflx_data = pd.read_csv(nflx_path, index_col='Country_code')\n",
    "\n",
    "# returns the csv file in table form\n",
    "nflx_data"
   ]
  },
  {
   "cell_type": "code",
   "execution_count": 3,
   "id": "04899b7b",
   "metadata": {
    "execution": {
     "iopub.execute_input": "2022-02-20T04:02:12.422123Z",
     "iopub.status.busy": "2022-02-20T04:02:12.421369Z",
     "iopub.status.idle": "2022-02-20T04:02:12.868660Z",
     "shell.execute_reply": "2022-02-20T04:02:12.869225Z",
     "shell.execute_reply.started": "2022-02-20T03:20:57.570439Z"
    },
    "papermill": {
     "duration": 0.467122,
     "end_time": "2022-02-20T04:02:12.869409",
     "exception": false,
     "start_time": "2022-02-20T04:02:12.402287",
     "status": "completed"
    },
    "tags": []
   },
   "outputs": [
    {
     "data": {
      "text/plain": [
       "<AxesSubplot:title={'center':'Relationship of Total Library Size to Cost of standard subscription per month ($)'}, xlabel='Total Library Size', ylabel='Cost Per Month - Standard ($)'>"
      ]
     },
     "execution_count": 3,
     "metadata": {},
     "output_type": "execute_result"
    },
    {
     "data": {
      "image/png": "[encoded data removed]",
      "text/plain": [
       "<Figure size 720x504 with 1 Axes>"
      ]
     },
     "metadata": {
      "needs_background": "light"
     },
     "output_type": "display_data"
    }
   ],
   "source": [
    "# SCATTERPLOT\n",
    "plt.figure(figsize=(10,7))\n",
    "plt.title('Relationship of Total Library Size to Cost of standard subscription per month ($)')\n",
    "plt.legend()\n",
    "\n",
    "sb.regplot(x=nflx_data['Total Library Size'], y=nflx_data['Cost Per Month - Standard ($)'])"
   ]
  },
  {
   "cell_type": "markdown",
   "id": "aab4ac59",
   "metadata": {
    "papermill": {
     "duration": 0.009571,
     "end_time": "2022-02-20T04:02:12.888807",
     "exception": false,
     "start_time": "2022-02-20T04:02:12.879236",
     "status": "completed"
    },
    "tags": []
   },
   "source": [
    "Shown above is the relationship of a country's Netflix total library size (TV shows + movies) to the cost of their standard subscription per month (in US dollars). The visualization tool qualitatively shows a weak negative correlation between the two variables as evidenced by the gentle downwards slope.\n",
    "\n",
    "**Based on available data, the monthly standard subscription cost for Netflix is somewhat seen to decrease as the total library size grow in volume.**\n",
    "\n",
    "This weak correlation does not imply that cost is inversely proportional to library size."
   ]
  },
  {
   "cell_type": "code",
   "execution_count": 4,
   "id": "74e39824",
   "metadata": {
    "execution": {
     "iopub.execute_input": "2022-02-20T04:02:13.002978Z",
     "iopub.status.busy": "2022-02-20T04:02:12.965611Z",
     "iopub.status.idle": "2022-02-20T04:02:13.274223Z",
     "shell.execute_reply": "2022-02-20T04:02:13.274806Z",
     "shell.execute_reply.started": "2022-02-20T03:42:06.668264Z"
    },
    "papermill": {
     "duration": 0.375602,
     "end_time": "2022-02-20T04:02:13.275007",
     "exception": false,
     "start_time": "2022-02-20T04:02:12.899405",
     "status": "completed"
    },
    "tags": []
   },
   "outputs": [
    {
     "data": {
      "text/plain": [
       "<matplotlib.legend.Legend at 0x7f7efa41d410>"
      ]
     },
     "execution_count": 4,
     "metadata": {},
     "output_type": "execute_result"
    },
    {
     "data": {
      "image/png": "[encoded data removed]",
      "text/plain": [
       "<Figure size 720x504 with 1 Axes>"
      ]
     },
     "metadata": {
      "needs_background": "light"
     },
     "output_type": "display_data"
    }
   ],
   "source": [
    "# KDE plot \n",
    "plt.figure(figsize=(10,7))\n",
    "\n",
    "sb.kdeplot(data=nflx_data['Cost Per Month - Basic ($)'], label=\"Basic cost per Month ($)\", shade=True)\n",
    "sb.kdeplot(data=nflx_data['Cost Per Month - Standard ($)'], label=\"Standard cost per Month ($)\", shade=True)\n",
    "sb.kdeplot(data=nflx_data['Cost Per Month - Premium ($)'], label=\"Premium cost per Month ($)\", shade=True)\n",
    "\n",
    "plt.title(\"Density plot of subscription costs, by plan type\")\n",
    "\n",
    "plt.legend() # shows legend of each plot"
   ]
  },
  {
   "cell_type": "markdown",
   "id": "1762bb66",
   "metadata": {
    "papermill": {
     "duration": 0.012037,
     "end_time": "2022-02-20T04:02:13.299623",
     "exception": false,
     "start_time": "2022-02-20T04:02:13.287586",
     "status": "completed"
    },
    "tags": []
   },
   "source": [
    "From a surface-level look at the plot above, it can be seen that **most subscription costs, regardless of plan type, tend to hang around the 5 to 15 dollar range**. \n",
    "\n",
    "If the plan's subscription cost is less than 10 dollars, it is most likely a *Basic Subscription*.\n",
    "\n",
    "If the plan costs about 10 to 15 dollars, it is likely a *Standard Subscription*.\n",
    "\n",
    "If the plan costs more than 15 dollars, it is probably a *Premium Subscription*.\n",
    "\n",
    "Lastly, it is worth noting that none of these subscription types are in a category of their own - meaning that **we cannot easily guess the type of Netflix plan one has solely on the monthly costs**."
   ]
  }
 ],
 "metadata": {
  "kernelspec": {
   "display_name": "Python 3",
   "language": "python",
   "name": "python3"
  },
  "language_info": {
   "codemirror_mode": {
    "name": "ipython",
    "version": 3
   },
   "file_extension": ".py",
   "mimetype": "text/x-python",
   "name": "python",
   "nbconvert_exporter": "python",
   "pygments_lexer": "ipython3",
   "version": "3.7.12"
  },
  "papermill": {
   "default_parameters": {},
   "duration": 15.190736,
   "end_time": "2022-02-20T04:02:14.125494",
   "environment_variables": {},
   "exception": null,
   "input_path": "__notebook__.ipynb",
   "output_path": "__notebook__.ipynb",
   "parameters": {},
   "start_time": "2022-02-20T04:01:58.934758",
   "version": "2.3.3"
  }
 },
 "nbformat": 4,
 "nbformat_minor": 5
}
